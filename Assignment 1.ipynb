{
 "cells": [
  {
   "cell_type": "markdown",
   "id": "894fb5de",
   "metadata": {},
   "source": [
    "Q1. Create one variable containing following type of data:\n",
    "(i) string\n",
    "(ii) list\n",
    "(iii) float\n",
    "(iv) tuple"
   ]
  },
  {
   "cell_type": "code",
   "execution_count": 1,
   "id": "b6fc2ace",
   "metadata": {},
   "outputs": [],
   "source": [
    "str='xyz'\n",
    "l=[1,2,'abc',2+4j]\n",
    "x=4.0\n",
    "t=(1,2,'abc',2+4j)"
   ]
  },
  {
   "cell_type": "markdown",
   "id": "1f682a41",
   "metadata": {},
   "source": [
    "Q2. Given are some following variables containing data:\n",
    "(i) var1 = ‘ ‘\n",
    "(ii) var2 = ‘[ DS , ML , Python]’\n",
    "(iii) var3 = [ ‘DS’ , ’ML’ , ‘Python’ ]\n",
    "(iv) var4 = 1.\n",
    "What will be the data type of the above given variable."
   ]
  },
  {
   "cell_type": "markdown",
   "id": "1e3a4562",
   "metadata": {},
   "source": [
    "variable name            data type\n",
    "var1                     string\n",
    "var2                     string\n",
    "var3                     list\n",
    "var4                     integer"
   ]
  },
  {
   "cell_type": "markdown",
   "id": "faa55c56",
   "metadata": {},
   "source": [
    "Q3. Explain the use of the following operators using an example:\n",
    "(i) /\n",
    "(ii) %\n",
    "(iii) //\n",
    "(iv) **"
   ]
  },
  {
   "cell_type": "markdown",
   "id": "6cdde056",
   "metadata": {},
   "source": [
    "/ : Divison operator 4/2=2\n",
    "% : Modulus operator 4%2=0\n",
    "//: Floor operator 4//3=1\n",
    "**: Power operator 2**3=8"
   ]
  },
  {
   "cell_type": "code",
   "execution_count": null,
   "id": "0d3449fe",
   "metadata": {},
   "outputs": [],
   "source": [
    "Q4. Create a list of length 10 of your choice containing multiple types of data. Using for loop print the\n",
    "element and its data type."
   ]
  },
  {
   "cell_type": "code",
   "execution_count": 13,
   "id": "02d15685",
   "metadata": {},
   "outputs": [
    {
     "name": "stdout",
     "output_type": "stream",
     "text": [
      "length of list is 10\n",
      "1  <class 'int'>\n",
      "2  <class 'int'>\n",
      "3  <class 'int'>\n",
      "abc  <class 'str'>\n",
      "[1, 2, 3]  <class 'list'>\n",
      "hello  <class 'str'>\n",
      "(2+4j)  <class 'complex'>\n",
      "(1, 2, 'abc')  <class 'tuple'>\n",
      "9.0  <class 'float'>\n",
      "10  <class 'str'>\n"
     ]
    }
   ],
   "source": [
    "list=[1,2,3,'abc',[1,2,3],'hello',2+4j,(1,2,'abc'),9.0,'10']\n",
    "print(\"length of list is\", len(list))\n",
    "for i in list:\n",
    "    print(i,'',type(i))"
   ]
  },
  {
   "cell_type": "markdown",
   "id": "3ac21aef",
   "metadata": {},
   "source": [
    "Q5. Using a while loop, verify if the number A is purely divisible by number B and if so then how many\n",
    "times it can be divisible."
   ]
  },
  {
   "cell_type": "code",
   "execution_count": 16,
   "id": "c0f4df55",
   "metadata": {},
   "outputs": [
    {
     "name": "stdout",
     "output_type": "stream",
     "text": [
      "4\n"
     ]
    }
   ],
   "source": [
    "a=10000\n",
    "b=5\n",
    "count=0\n",
    "while a%b==0:\n",
    "    count+=1\n",
    "    a/=b\n",
    "print(count)\n"
   ]
  },
  {
   "cell_type": "markdown",
   "id": "bc2361ec",
   "metadata": {},
   "source": [
    "Q6. Create a list containing 25 int type data. Using for loop and if-else condition print if the element is\n",
    "divisible by 3 or not."
   ]
  },
  {
   "cell_type": "code",
   "execution_count": 4,
   "id": "36ff6efb",
   "metadata": {},
   "outputs": [
    {
     "name": "stdout",
     "output_type": "stream",
     "text": [
      "Not Divisible\n",
      "Not Divisible\n",
      "Element 3 is divisible by 3\n",
      "Not Divisible\n",
      "Not Divisible\n",
      "Element 6 is divisible by 3\n",
      "Not Divisible\n",
      "Not Divisible\n",
      "Element 9 is divisible by 3\n",
      "Not Divisible\n",
      "Not Divisible\n",
      "Element 12 is divisible by 3\n",
      "Not Divisible\n",
      "Not Divisible\n",
      "Element 15 is divisible by 3\n",
      "Not Divisible\n",
      "Not Divisible\n",
      "Element 18 is divisible by 3\n",
      "Not Divisible\n",
      "Not Divisible\n",
      "Element 21 is divisible by 3\n",
      "Not Divisible\n",
      "Not Divisible\n",
      "Element 24 is divisible by 3\n",
      "Not Divisible\n"
     ]
    }
   ],
   "source": [
    "i=2\n",
    "l=[1]\n",
    "while i<=25:\n",
    "    l.append(i)\n",
    "    i+=1\n",
    "for i in l:\n",
    "    if i%3==0:\n",
    "        print(\"Element\",i,'is divisible by 3')\n",
    "    else:\n",
    "        print('Not Divisible')"
   ]
  },
  {
   "cell_type": "markdown",
   "id": "6981778c",
   "metadata": {},
   "source": [
    "Q7. What do you understand about mutable and immutable data types? Give examples for both showing\n",
    "this property."
   ]
  },
  {
   "cell_type": "markdown",
   "id": "ccb2cbc0",
   "metadata": {},
   "source": [
    "Mutable data types are those data types in which we can change the value of the elements present at any specific index but in immutable data types we can not change the value of the element by accessing the index number. Example of mutable data type is list and for immutable data type is string."
   ]
  },
  {
   "cell_type": "code",
   "execution_count": null,
   "id": "cefe2a51",
   "metadata": {},
   "outputs": [],
   "source": []
  }
 ],
 "metadata": {
  "kernelspec": {
   "display_name": "Python 3 (ipykernel)",
   "language": "python",
   "name": "python3"
  },
  "language_info": {
   "codemirror_mode": {
    "name": "ipython",
    "version": 3
   },
   "file_extension": ".py",
   "mimetype": "text/x-python",
   "name": "python",
   "nbconvert_exporter": "python",
   "pygments_lexer": "ipython3",
   "version": "3.9.12"
  }
 },
 "nbformat": 4,
 "nbformat_minor": 5
}
